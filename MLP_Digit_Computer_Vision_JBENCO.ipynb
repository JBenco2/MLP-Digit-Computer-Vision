{
 "cells": [
  {
   "cell_type": "markdown",
   "id": "e8c47bac",
   "metadata": {},
   "source": [
    "MSDS 422 Assignment # 4 for James Benco"
   ]
  },
  {
   "cell_type": "markdown",
   "id": "d662908b",
   "metadata": {},
   "source": [
    "1: Importing Data amd Required Libraries"
   ]
  },
  {
   "cell_type": "code",
   "execution_count": 132,
   "id": "4aebb176",
   "metadata": {},
   "outputs": [],
   "source": [
    "from IPython.display import HTML\n",
    "from IPython.core.interactiveshell import InteractiveShell\n",
    "InteractiveShell.ast_node_interactivity = \"all\""
   ]
  },
  {
   "cell_type": "code",
   "execution_count": 133,
   "id": "89d975dc",
   "metadata": {},
   "outputs": [
    {
     "name": "stdout",
     "output_type": "stream",
     "text": [
      "Populating the interactive namespace from numpy and matplotlib\n"
     ]
    }
   ],
   "source": [
    "import os\n",
    "import numpy as np\n",
    "import pandas as pd\n",
    "import math\n",
    "import matplotlib.pyplot as plt\n",
    "import seaborn as sns\n",
    "from sklearn.preprocessing import StandardScaler \n",
    "from sklearn.preprocessing import OneHotEncoder\n",
    "import category_encoders\n",
    "from sklearn.pipeline import Pipeline, make_pipeline\n",
    "from sklearn import metrics\n",
    "from sklearn.model_selection import train_test_split\n",
    "from sklearn import dummy\n",
    "from sklearn.neural_network import MLPClassifier\n",
    "from sklearn.metrics import confusion_matrix,classification_report\n",
    "%pylab inline\n",
    "%matplotlib inline"
   ]
  },
  {
   "cell_type": "markdown",
   "id": "d9504b20",
   "metadata": {},
   "source": [
    "We will first import the data from the Digit Recognizer Dataset"
   ]
  },
  {
   "cell_type": "code",
   "execution_count": 134,
   "id": "af0cd1f0",
   "metadata": {},
   "outputs": [],
   "source": [
    "#Train Data file\n",
    "digitTrainDat = pd.read_csv(\"train.csv\")\n",
    "TrainDat = digitTrainDat.copy()"
   ]
  },
  {
   "cell_type": "code",
   "execution_count": 135,
   "id": "2b6ed6f3",
   "metadata": {},
   "outputs": [],
   "source": [
    "#Test Data File\n",
    "digitTestDat = pd.read_csv(\"test.csv\")\n",
    "TestDat = digitTestDat.copy()"
   ]
  },
  {
   "cell_type": "code",
   "execution_count": 136,
   "id": "24f009e1",
   "metadata": {},
   "outputs": [],
   "source": [
    "#Sample Submission File\n",
    "digitSubFile = pd.read_csv(\"sample_submission.csv\")"
   ]
  },
  {
   "cell_type": "code",
   "execution_count": 137,
   "id": "c086ba96",
   "metadata": {},
   "outputs": [
    {
     "name": "stdout",
     "output_type": "stream",
     "text": [
      "<class 'pandas.core.frame.DataFrame'>\n",
      "RangeIndex: 42000 entries, 0 to 41999\n",
      "Columns: 785 entries, label to pixel783\n",
      "dtypes: int64(785)\n",
      "memory usage: 251.5 MB\n"
     ]
    }
   ],
   "source": [
    "#Checking all the headers and datatypes of the training data\n",
    "TrainDat.info()"
   ]
  },
  {
   "cell_type": "markdown",
   "id": "de843918",
   "metadata": {},
   "source": [
    "All the data seems to be pixels which we will need to visualize to understand"
   ]
  },
  {
   "cell_type": "markdown",
   "id": "2fd902a8",
   "metadata": {},
   "source": [
    "2: Statistical EDA"
   ]
  },
  {
   "cell_type": "code",
   "execution_count": 138,
   "id": "3285c10d",
   "metadata": {},
   "outputs": [
    {
     "data": {
      "text/plain": [
       "<AxesSubplot:xlabel='label', ylabel='count'>"
      ]
     },
     "execution_count": 138,
     "metadata": {},
     "output_type": "execute_result"
    },
    {
     "data": {
      "image/png": "[encoded data removed]",
      "text/plain": [
       "<Figure size 432x288 with 1 Axes>"
      ]
     },
     "metadata": {
      "needs_background": "light"
     },
     "output_type": "display_data"
    }
   ],
   "source": [
    "sns.countplot(data=TrainDat, x='label')"
   ]
  },
  {
   "cell_type": "markdown",
   "id": "83fc3fbe",
   "metadata": {},
   "source": [
    "From this we can see that the dataset is comprised of visual pixelated images of the numbers 0-9.  All about similar distributions of the numbers with none being exactly equal to each other."
   ]
  },
  {
   "cell_type": "code",
   "execution_count": 139,
   "id": "13fc72d2",
   "metadata": {},
   "outputs": [],
   "source": [
    "#first we will need to split into x and y train data\n",
    "xTrain = TrainDat.drop(labels=['label'],axis=1)\n",
    "yTrain = TrainDat['label']"
   ]
  },
  {
   "cell_type": "markdown",
   "id": "b21fae44",
   "metadata": {},
   "source": [
    "We will now check for null values in the dataset"
   ]
  },
  {
   "cell_type": "code",
   "execution_count": 140,
   "id": "daf2948c",
   "metadata": {},
   "outputs": [
    {
     "data": {
      "text/plain": [
       "label       0\n",
       "pixel0      0\n",
       "pixel1      0\n",
       "pixel2      0\n",
       "pixel3      0\n",
       "           ..\n",
       "pixel779    0\n",
       "pixel780    0\n",
       "pixel781    0\n",
       "pixel782    0\n",
       "pixel783    0\n",
       "Length: 785, dtype: int64"
      ]
     },
     "execution_count": 140,
     "metadata": {},
     "output_type": "execute_result"
    }
   ],
   "source": [
    "TrainDat.isnull().sum()"
   ]
  },
  {
   "cell_type": "markdown",
   "id": "ee6b2e57",
   "metadata": {},
   "source": [
    "There seems to be no missing data for this dataset."
   ]
  },
  {
   "cell_type": "markdown",
   "id": "cfb0c7c2",
   "metadata": {},
   "source": [
    "We will now convert our test/train data from a dataframe to numpy array"
   ]
  },
  {
   "cell_type": "code",
   "execution_count": 141,
   "id": "a4317582",
   "metadata": {},
   "outputs": [],
   "source": [
    "xTrain = xTrain.to_numpy()\n",
    "yTrain = yTrain.to_numpy()\n",
    "\n",
    "xTest = TestDat.to_numpy()"
   ]
  },
  {
   "cell_type": "code",
   "execution_count": 142,
   "id": "0e8d4031",
   "metadata": {},
   "outputs": [],
   "source": [
    "#Reshaping array \n",
    "xTrain = xTrain.reshape((-1,28,28))\n",
    "xTest = xTest.reshape((-1,28,28))"
   ]
  },
  {
   "cell_type": "code",
   "execution_count": 143,
   "id": "c4853ad1",
   "metadata": {},
   "outputs": [
    {
     "data": {
      "text/plain": [
       "<AxesSubplot:>"
      ]
     },
     "execution_count": 143,
     "metadata": {},
     "output_type": "execute_result"
    },
    {
     "data": {
      "text/plain": [
       "<matplotlib.image.AxesImage at 0x14c71851f10>"
      ]
     },
     "execution_count": 143,
     "metadata": {},
     "output_type": "execute_result"
    },
    {
     "data": {
      "text/plain": [
       "<AxesSubplot:>"
      ]
     },
     "execution_count": 143,
     "metadata": {},
     "output_type": "execute_result"
    },
    {
     "data": {
      "text/plain": [
       "<matplotlib.image.AxesImage at 0x14c71f72fd0>"
      ]
     },
     "execution_count": 143,
     "metadata": {},
     "output_type": "execute_result"
    },
    {
     "data": {
      "text/plain": [
       "<AxesSubplot:>"
      ]
     },
     "execution_count": 143,
     "metadata": {},
     "output_type": "execute_result"
    },
    {
     "data": {
      "text/plain": [
       "<matplotlib.image.AxesImage at 0x14c7185b1f0>"
      ]
     },
     "execution_count": 143,
     "metadata": {},
     "output_type": "execute_result"
    },
    {
     "data": {
      "text/plain": [
       "<AxesSubplot:>"
      ]
     },
     "execution_count": 143,
     "metadata": {},
     "output_type": "execute_result"
    },
    {
     "data": {
      "text/plain": [
       "<matplotlib.image.AxesImage at 0x14c4c876b80>"
      ]
     },
     "execution_count": 143,
     "metadata": {},
     "output_type": "execute_result"
    },
    {
     "data": {
      "text/plain": [
       "<AxesSubplot:>"
      ]
     },
     "execution_count": 143,
     "metadata": {},
     "output_type": "execute_result"
    },
    {
     "data": {
      "text/plain": [
       "<matplotlib.image.AxesImage at 0x14c4c876f10>"
      ]
     },
     "execution_count": 143,
     "metadata": {},
     "output_type": "execute_result"
    },
    {
     "data": {
      "text/plain": [
       "<AxesSubplot:>"
      ]
     },
     "execution_count": 143,
     "metadata": {},
     "output_type": "execute_result"
    },
    {
     "data": {
      "text/plain": [
       "<matplotlib.image.AxesImage at 0x14c4ce0fd30>"
      ]
     },
     "execution_count": 143,
     "metadata": {},
     "output_type": "execute_result"
    },
    {
     "data": {
      "text/plain": [
       "<AxesSubplot:>"
      ]
     },
     "execution_count": 143,
     "metadata": {},
     "output_type": "execute_result"
    },
    {
     "data": {
      "text/plain": [
       "<matplotlib.image.AxesImage at 0x14c4ce21580>"
      ]
     },
     "execution_count": 143,
     "metadata": {},
     "output_type": "execute_result"
    },
    {
     "data": {
      "text/plain": [
       "<AxesSubplot:>"
      ]
     },
     "execution_count": 143,
     "metadata": {},
     "output_type": "execute_result"
    },
    {
     "data": {
      "text/plain": [
       "<matplotlib.image.AxesImage at 0x14c4d1d7b50>"
      ]
     },
     "execution_count": 143,
     "metadata": {},
     "output_type": "execute_result"
    },
    {
     "data": {
      "text/plain": [
       "<AxesSubplot:>"
      ]
     },
     "execution_count": 143,
     "metadata": {},
     "output_type": "execute_result"
    },
    {
     "data": {
      "text/plain": [
       "<matplotlib.image.AxesImage at 0x14c4c9d3d90>"
      ]
     },
     "execution_count": 143,
     "metadata": {},
     "output_type": "execute_result"
    },
    {
     "data": {
      "text/plain": [
       "<AxesSubplot:>"
      ]
     },
     "execution_count": 143,
     "metadata": {},
     "output_type": "execute_result"
    },
    {
     "data": {
      "text/plain": [
       "<matplotlib.image.AxesImage at 0x14c4c9bbd00>"
      ]
     },
     "execution_count": 143,
     "metadata": {},
     "output_type": "execute_result"
    },
    {
     "data": {
      "text/plain": [
       "<AxesSubplot:>"
      ]
     },
     "execution_count": 143,
     "metadata": {},
     "output_type": "execute_result"
    },
    {
     "data": {
      "text/plain": [
       "<matplotlib.image.AxesImage at 0x14c4e0c5280>"
      ]
     },
     "execution_count": 143,
     "metadata": {},
     "output_type": "execute_result"
    },
    {
     "data": {
      "text/plain": [
       "<AxesSubplot:>"
      ]
     },
     "execution_count": 143,
     "metadata": {},
     "output_type": "execute_result"
    },
    {
     "data": {
      "text/plain": [
       "<matplotlib.image.AxesImage at 0x14c4c9ddf40>"
      ]
     },
     "execution_count": 143,
     "metadata": {},
     "output_type": "execute_result"
    },
    {
     "data": {
      "text/plain": [
       "<AxesSubplot:>"
      ]
     },
     "execution_count": 143,
     "metadata": {},
     "output_type": "execute_result"
    },
    {
     "data": {
      "text/plain": [
       "<matplotlib.image.AxesImage at 0x14c71f49c10>"
      ]
     },
     "execution_count": 143,
     "metadata": {},
     "output_type": "execute_result"
    },
    {
     "data": {
      "text/plain": [
       "<AxesSubplot:>"
      ]
     },
     "execution_count": 143,
     "metadata": {},
     "output_type": "execute_result"
    },
    {
     "data": {
      "text/plain": [
       "<matplotlib.image.AxesImage at 0x14c4e13e580>"
      ]
     },
     "execution_count": 143,
     "metadata": {},
     "output_type": "execute_result"
    },
    {
     "data": {
      "text/plain": [
       "<AxesSubplot:>"
      ]
     },
     "execution_count": 143,
     "metadata": {},
     "output_type": "execute_result"
    },
    {
     "data": {
      "text/plain": [
       "<matplotlib.image.AxesImage at 0x14c71f49b80>"
      ]
     },
     "execution_count": 143,
     "metadata": {},
     "output_type": "execute_result"
    },
    {
     "data": {
      "text/plain": [
       "<AxesSubplot:>"
      ]
     },
     "execution_count": 143,
     "metadata": {},
     "output_type": "execute_result"
    },
    {
     "data": {
      "text/plain": [
       "<matplotlib.image.AxesImage at 0x14c4eafeca0>"
      ]
     },
     "execution_count": 143,
     "metadata": {},
     "output_type": "execute_result"
    },
    {
     "data": {
      "image/png": "[encoded data removed]",
      "text/plain": [
       "<Figure size 432x288 with 16 Axes>"
      ]
     },
     "metadata": {
      "needs_background": "light"
     },
     "output_type": "display_data"
    }
   ],
   "source": [
    "#Visualizing the images\n",
    "for i in range(16):\n",
    "    plt.subplot(4,4,i+1)\n",
    "    plt.imshow(xTrain[i])\n",
    "plt.show()"
   ]
  },
  {
   "cell_type": "code",
   "execution_count": 144,
   "id": "dd4320db",
   "metadata": {},
   "outputs": [],
   "source": [
    "#Reshaping again to encompass the data\n",
    "xTrain = xTrain.reshape((-1,28*28))\n",
    "xTest = xTest.reshape((-1,28*28))"
   ]
  },
  {
   "cell_type": "markdown",
   "id": "6d0253f8",
   "metadata": {},
   "source": [
    "3: MLP Model Creation"
   ]
  },
  {
   "cell_type": "markdown",
   "id": "4f5dd208",
   "metadata": {},
   "source": [
    "Model 1: Activation(reLU), Hidden_layers(64,64)"
   ]
  },
  {
   "cell_type": "code",
   "execution_count": 145,
   "id": "a504213e",
   "metadata": {},
   "outputs": [
    {
     "data": {
      "text/plain": [
       "MLPClassifier(early_stopping=True, hidden_layer_sizes=(64, 64), max_iter=100)"
      ]
     },
     "execution_count": 145,
     "metadata": {},
     "output_type": "execute_result"
    }
   ],
   "source": [
    "#We need to create 4 different models and compare them with different hyperparameters\n",
    "#We shall create two different designs with alternate activation with logistic and reLu for each amount of hidden layers \n",
    "model1= MLPClassifier(solver='adam',activation='relu',hidden_layer_sizes=(64,64), early_stopping=True, max_iter=100)\n",
    "model1.fit(xTrain,yTrain)"
   ]
  },
  {
   "cell_type": "markdown",
   "id": "d81aa3aa",
   "metadata": {},
   "source": [
    "Model 2: Activation(Logistic), Hidden_layers(64,64)"
   ]
  },
  {
   "cell_type": "code",
   "execution_count": 146,
   "id": "93c569de",
   "metadata": {},
   "outputs": [
    {
     "data": {
      "text/plain": [
       "MLPClassifier(activation='logistic', early_stopping=True,\n",
       "              hidden_layer_sizes=(64, 64), max_iter=100)"
      ]
     },
     "execution_count": 146,
     "metadata": {},
     "output_type": "execute_result"
    }
   ],
   "source": [
    "#Creation Model2 will have the same amount of hidden layers but use the logistic activation \n",
    "model2= MLPClassifier(solver='adam',activation='logistic', hidden_layer_sizes=(64,64), early_stopping=True, max_iter=100)\n",
    "model2.fit(xTrain,yTrain)"
   ]
  },
  {
   "cell_type": "markdown",
   "id": "298dafba",
   "metadata": {},
   "source": [
    "Model 3: Activation(reLU) Hidden Layers(16,16)"
   ]
  },
  {
   "cell_type": "code",
   "execution_count": 147,
   "id": "93ef8057",
   "metadata": {},
   "outputs": [
    {
     "data": {
      "text/plain": [
       "MLPClassifier(early_stopping=True, hidden_layer_sizes=(16, 16), max_iter=100)"
      ]
     },
     "execution_count": 147,
     "metadata": {},
     "output_type": "execute_result"
    }
   ],
   "source": [
    "model3 = MLPClassifier(solver='adam',activation='relu',hidden_layer_sizes=(16,16),early_stopping=True,max_iter=100)\n",
    "model3.fit(xTrain,yTrain)\n"
   ]
  },
  {
   "cell_type": "markdown",
   "id": "53ce9b17",
   "metadata": {},
   "source": [
    "Model4: Activation(Logistic), Hidden_layers(16,16)"
   ]
  },
  {
   "cell_type": "code",
   "execution_count": 148,
   "id": "8414307c",
   "metadata": {},
   "outputs": [
    {
     "data": {
      "text/plain": [
       "MLPClassifier(activation='logistic', early_stopping=True,\n",
       "              hidden_layer_sizes=(16, 16), max_iter=100)"
      ]
     },
     "execution_count": 148,
     "metadata": {},
     "output_type": "execute_result"
    }
   ],
   "source": [
    "model4 = MLPClassifier(solver='adam',activation='logistic',hidden_layer_sizes=(16,16),early_stopping=True,max_iter=100)\n",
    "model4.fit(xTrain,yTrain)"
   ]
  },
  {
   "cell_type": "markdown",
   "id": "824e7c0c",
   "metadata": {},
   "source": [
    "4: MLP Model Evaluation"
   ]
  },
  {
   "cell_type": "markdown",
   "id": "c2381498",
   "metadata": {},
   "source": [
    "We shall now compare models based on their respective iterations and accuracy scores for each iteration"
   ]
  },
  {
   "cell_type": "code",
   "execution_count": 149,
   "id": "58cdf6e8",
   "metadata": {},
   "outputs": [
    {
     "data": {
      "text/plain": [
       "[<matplotlib.lines.Line2D at 0x14c8b1148b0>]"
      ]
     },
     "execution_count": 149,
     "metadata": {},
     "output_type": "execute_result"
    },
    {
     "data": {
      "text/plain": [
       "[<matplotlib.lines.Line2D at 0x14c8b114370>]"
      ]
     },
     "execution_count": 149,
     "metadata": {},
     "output_type": "execute_result"
    },
    {
     "data": {
      "text/plain": [
       "[<matplotlib.lines.Line2D at 0x14c8b1140a0>]"
      ]
     },
     "execution_count": 149,
     "metadata": {},
     "output_type": "execute_result"
    },
    {
     "data": {
      "text/plain": [
       "[<matplotlib.lines.Line2D at 0x14c8b0f8610>]"
      ]
     },
     "execution_count": 149,
     "metadata": {},
     "output_type": "execute_result"
    },
    {
     "data": {
      "text/plain": [
       "Text(0.5, 0, 'Iterations')"
      ]
     },
     "execution_count": 149,
     "metadata": {},
     "output_type": "execute_result"
    },
    {
     "data": {
      "text/plain": [
       "Text(0.5, 1.0, 'Accuracy over Iterations')"
      ]
     },
     "execution_count": 149,
     "metadata": {},
     "output_type": "execute_result"
    },
    {
     "data": {
      "text/plain": [
       "<matplotlib.legend.Legend at 0x14c8b14d790>"
      ]
     },
     "execution_count": 149,
     "metadata": {},
     "output_type": "execute_result"
    },
    {
     "data": {
      "image/png": "[encoded data removed]",
      "text/plain": [
       "<Figure size 1080x720 with 1 Axes>"
      ]
     },
     "metadata": {
      "needs_background": "light"
     },
     "output_type": "display_data"
    }
   ],
   "source": [
    "fig, ax = plt.subplots(1,sharex=True,sharey=True,figsize=(15,10))\n",
    "plt.plot(model1.validation_scores_,color='green',label='Model1')\n",
    "plt.plot(model2.validation_scores_,color='blue',label='Model2')\n",
    "plt.plot(model3.validation_scores_,color='red',label='Model3')\n",
    "plt.plot(model4.validation_scores_,color='magenta',label='Model4')\n",
    "plt.xlabel('Iterations')\n",
    "plt.title('Accuracy over Iterations')\n",
    "plt.legend(loc='lower right')\n",
    "plt.show()"
   ]
  },
  {
   "cell_type": "markdown",
   "id": "4fbdf91f",
   "metadata": {},
   "source": [
    "From the validation scores of these various models it seems that the model with 64 nodes and 62 hidden layers provided the highest validation score.  Along with being the quickest model with the least amount of iterations necessary to get below tolerance level. "
   ]
  },
  {
   "cell_type": "markdown",
   "id": "4f9f8ca7",
   "metadata": {},
   "source": [
    "5: Part 1B -ConvNet "
   ]
  },
  {
   "cell_type": "markdown",
   "id": "f10c6724",
   "metadata": {},
   "source": [
    "Installing and prepping data for convnet model"
   ]
  },
  {
   "cell_type": "code",
   "execution_count": 150,
   "id": "b13d9755",
   "metadata": {},
   "outputs": [
    {
     "name": "stdout",
     "output_type": "stream",
     "text": [
      "Requirement already satisfied: keras in c:\\users\\pain in my ass\\anaconda3\\lib\\site-packages (2.9.0)\n",
      "Requirement already satisfied: tensorflow in c:\\users\\pain in my ass\\anaconda3\\lib\\site-packages (2.9.0)\n",
      "Requirement already satisfied: flatbuffers<2,>=1.12 in c:\\users\\pain in my ass\\anaconda3\\lib\\site-packages (from tensorflow) (1.12)\n",
      "Requirement already satisfied: opt-einsum>=2.3.2 in c:\\users\\pain in my ass\\anaconda3\\lib\\site-packages (from tensorflow) (3.3.0)\n",
      "Requirement already satisfied: gast<=0.4.0,>=0.2.1 in c:\\users\\pain in my ass\\anaconda3\\lib\\site-packages (from tensorflow) (0.4.0)\n",
      "Requirement already satisfied: tensorflow-io-gcs-filesystem>=0.23.1 in c:\\users\\pain in my ass\\anaconda3\\lib\\site-packages (from tensorflow) (0.26.0)\n",
      "Requirement already satisfied: google-pasta>=0.1.1 in c:\\users\\pain in my ass\\anaconda3\\lib\\site-packages (from tensorflow) (0.2.0)\n",
      "Requirement already satisfied: typing-extensions>=3.6.6 in c:\\users\\pain in my ass\\anaconda3\\lib\\site-packages (from tensorflow) (3.7.4.3)\n",
      "Requirement already satisfied: libclang>=13.0.0 in c:\\users\\pain in my ass\\anaconda3\\lib\\site-packages (from tensorflow) (14.0.1)\n",
      "Requirement already satisfied: absl-py>=1.0.0 in c:\\users\\pain in my ass\\anaconda3\\lib\\site-packages (from tensorflow) (1.0.0)\n",
      "Requirement already satisfied: h5py>=2.9.0 in c:\\users\\pain in my ass\\anaconda3\\lib\\site-packages (from tensorflow) (2.10.0)\n",
      "Requirement already satisfied: keras-preprocessing>=1.1.1 in c:\\users\\pain in my ass\\anaconda3\\lib\\site-packages (from tensorflow) (1.1.2)\n",
      "Requirement already satisfied: numpy>=1.20 in c:\\users\\pain in my ass\\anaconda3\\lib\\site-packages (from tensorflow) (1.20.1)\n",
      "Requirement already satisfied: tensorflow-estimator<2.10.0,>=2.9.0rc0 in c:\\users\\pain in my ass\\anaconda3\\lib\\site-packages (from tensorflow) (2.9.0)\n",
      "Requirement already satisfied: wrapt>=1.11.0 in c:\\users\\pain in my ass\\anaconda3\\lib\\site-packages (from tensorflow) (1.12.1)\n",
      "Requirement already satisfied: keras<2.10.0,>=2.9.0rc0 in c:\\users\\pain in my ass\\anaconda3\\lib\\site-packages (from tensorflow) (2.9.0)\n",
      "Requirement already satisfied: astunparse>=1.6.0 in c:\\users\\pain in my ass\\anaconda3\\lib\\site-packages (from tensorflow) (1.6.3)\n",
      "Requirement already satisfied: termcolor>=1.1.0 in c:\\users\\pain in my ass\\anaconda3\\lib\\site-packages (from tensorflow) (1.1.0)\n",
      "Requirement already satisfied: setuptools in c:\\users\\pain in my ass\\anaconda3\\lib\\site-packages (from tensorflow) (52.0.0.post20210125)\n",
      "Requirement already satisfied: protobuf>=3.9.2 in c:\\users\\pain in my ass\\anaconda3\\lib\\site-packages (from tensorflow) (3.20.1)\n",
      "Requirement already satisfied: grpcio<2.0,>=1.24.3 in c:\\users\\pain in my ass\\anaconda3\\lib\\site-packages (from tensorflow) (1.46.1)\n",
      "Requirement already satisfied: packaging in c:\\users\\pain in my ass\\anaconda3\\lib\\site-packages (from tensorflow) (20.9)\n",
      "Requirement already satisfied: tensorboard<2.10,>=2.9 in c:\\users\\pain in my ass\\anaconda3\\lib\\site-packages (from tensorflow) (2.9.0)\n",
      "Requirement already satisfied: six>=1.12.0 in c:\\users\\pain in my ass\\anaconda3\\lib\\site-packages (from tensorflow) (1.15.0)\n",
      "Requirement already satisfied: wheel<1.0,>=0.23.0 in c:\\users\\pain in my ass\\anaconda3\\lib\\site-packages (from astunparse>=1.6.0->tensorflow) (0.36.2)\n",
      "Requirement already satisfied: tensorboard-plugin-wit>=1.6.0 in c:\\users\\pain in my ass\\anaconda3\\lib\\site-packages (from tensorboard<2.10,>=2.9->tensorflow) (1.8.1)\n",
      "Requirement already satisfied: markdown>=2.6.8 in c:\\users\\pain in my ass\\anaconda3\\lib\\site-packages (from tensorboard<2.10,>=2.9->tensorflow) (3.3.7)\n",
      "Requirement already satisfied: werkzeug>=1.0.1 in c:\\users\\pain in my ass\\anaconda3\\lib\\site-packages (from tensorboard<2.10,>=2.9->tensorflow) (1.0.1)\n",
      "Requirement already satisfied: google-auth-oauthlib<0.5,>=0.4.1 in c:\\users\\pain in my ass\\anaconda3\\lib\\site-packages (from tensorboard<2.10,>=2.9->tensorflow) (0.4.6)\n",
      "Requirement already satisfied: tensorboard-data-server<0.7.0,>=0.6.0 in c:\\users\\pain in my ass\\anaconda3\\lib\\site-packages (from tensorboard<2.10,>=2.9->tensorflow) (0.6.1)\n",
      "Requirement already satisfied: requests<3,>=2.21.0 in c:\\users\\pain in my ass\\anaconda3\\lib\\site-packages (from tensorboard<2.10,>=2.9->tensorflow) (2.25.1)\n",
      "Requirement already satisfied: google-auth<3,>=1.6.3 in c:\\users\\pain in my ass\\anaconda3\\lib\\site-packages (from tensorboard<2.10,>=2.9->tensorflow) (2.6.6)\n",
      "Requirement already satisfied: rsa<5,>=3.1.4 in c:\\users\\pain in my ass\\anaconda3\\lib\\site-packages (from google-auth<3,>=1.6.3->tensorboard<2.10,>=2.9->tensorflow) (4.8)\n",
      "Requirement already satisfied: pyasn1-modules>=0.2.1 in c:\\users\\pain in my ass\\anaconda3\\lib\\site-packages (from google-auth<3,>=1.6.3->tensorboard<2.10,>=2.9->tensorflow) (0.2.8)\n",
      "Requirement already satisfied: cachetools<6.0,>=2.0.0 in c:\\users\\pain in my ass\\anaconda3\\lib\\site-packages (from google-auth<3,>=1.6.3->tensorboard<2.10,>=2.9->tensorflow) (5.1.0)\n",
      "Requirement already satisfied: requests-oauthlib>=0.7.0 in c:\\users\\pain in my ass\\anaconda3\\lib\\site-packages (from google-auth-oauthlib<0.5,>=0.4.1->tensorboard<2.10,>=2.9->tensorflow) (1.3.1)\n",
      "Requirement already satisfied: importlib-metadata>=4.4 in c:\\users\\pain in my ass\\anaconda3\\lib\\site-packages (from markdown>=2.6.8->tensorboard<2.10,>=2.9->tensorflow) (4.11.3)\n",
      "Requirement already satisfied: zipp>=0.5 in c:\\users\\pain in my ass\\anaconda3\\lib\\site-packages (from importlib-metadata>=4.4->markdown>=2.6.8->tensorboard<2.10,>=2.9->tensorflow) (3.4.1)\n",
      "Requirement already satisfied: pyasn1<0.5.0,>=0.4.6 in c:\\users\\pain in my ass\\anaconda3\\lib\\site-packages (from pyasn1-modules>=0.2.1->google-auth<3,>=1.6.3->tensorboard<2.10,>=2.9->tensorflow) (0.4.8)\n",
      "Requirement already satisfied: urllib3<1.27,>=1.21.1 in c:\\users\\pain in my ass\\anaconda3\\lib\\site-packages (from requests<3,>=2.21.0->tensorboard<2.10,>=2.9->tensorflow) (1.26.4)\n",
      "Requirement already satisfied: chardet<5,>=3.0.2 in c:\\users\\pain in my ass\\anaconda3\\lib\\site-packages (from requests<3,>=2.21.0->tensorboard<2.10,>=2.9->tensorflow) (4.0.0)\n",
      "Requirement already satisfied: idna<3,>=2.5 in c:\\users\\pain in my ass\\anaconda3\\lib\\site-packages (from requests<3,>=2.21.0->tensorboard<2.10,>=2.9->tensorflow) (2.10)\n",
      "Requirement already satisfied: certifi>=2017.4.17 in c:\\users\\pain in my ass\\anaconda3\\lib\\site-packages (from requests<3,>=2.21.0->tensorboard<2.10,>=2.9->tensorflow) (2020.12.5)\n",
      "Requirement already satisfied: oauthlib>=3.0.0 in c:\\users\\pain in my ass\\anaconda3\\lib\\site-packages (from requests-oauthlib>=0.7.0->google-auth-oauthlib<0.5,>=0.4.1->tensorboard<2.10,>=2.9->tensorflow) (3.2.0)\n",
      "Requirement already satisfied: pyparsing>=2.0.2 in c:\\users\\pain in my ass\\anaconda3\\lib\\site-packages (from packaging->tensorflow) (2.4.7)\n"
     ]
    }
   ],
   "source": [
    "#installing keras\n",
    "!pip install keras\n",
    "!pip install tensorflow"
   ]
  },
  {
   "cell_type": "code",
   "execution_count": 151,
   "id": "48508b65",
   "metadata": {},
   "outputs": [],
   "source": [
    "#importing Keras and necessary convnet neural network libraries\n",
    "from sklearn import metrics\n",
    "from keras.models import Sequential, Model\n",
    "from keras.layers import Dense,Dropout, Conv2D, MaxPool2D, Flatten, Input\n",
    "from keras.optimizers import Adam, Adadelta\n",
    "from keras.utils.np_utils import to_categorical\n",
    "from keras.preprocessing.image import ImageDataGenerator"
   ]
  },
  {
   "cell_type": "code",
   "execution_count": 152,
   "id": "38229e19",
   "metadata": {},
   "outputs": [],
   "source": [
    "#reprepping data to use in a convNet model instead\n",
    "x_Train = TrainDat.drop(labels=['label'],axis=1)\n",
    "y_Train = TrainDat['label']"
   ]
  },
  {
   "cell_type": "code",
   "execution_count": 153,
   "id": "70a0587c",
   "metadata": {},
   "outputs": [],
   "source": [
    "x_Test = TestDat"
   ]
  },
  {
   "cell_type": "code",
   "execution_count": 154,
   "id": "00cc2c12",
   "metadata": {},
   "outputs": [],
   "source": [
    "#Normalizing the data\n",
    "x_Train = x_Train/255\n",
    "x_Test = x_Test/255"
   ]
  },
  {
   "cell_type": "code",
   "execution_count": 155,
   "id": "5a5ba93d",
   "metadata": {},
   "outputs": [],
   "source": [
    "#reshaping to work in model\n",
    "x_Train = x_Train.values.reshape(-1,28,28,1)\n",
    "\n",
    "x_Test = x_Test.values.reshape(-1,28,28,1)"
   ]
  },
  {
   "cell_type": "code",
   "execution_count": 156,
   "id": "7a0b2e4b",
   "metadata": {},
   "outputs": [],
   "source": [
    "#For convNet we shall use onehotencoding instead\n",
    "y_Train = to_categorical(y_Train, num_classes=10)"
   ]
  },
  {
   "cell_type": "code",
   "execution_count": 157,
   "id": "3782b77e",
   "metadata": {},
   "outputs": [
    {
     "name": "stdout",
     "output_type": "stream",
     "text": [
      "x_Train shape (37800, 28, 28, 1)\n",
      "y_Train shape (37800, 10)\n",
      "x_Val shape (4200, 28, 28, 1)\n",
      "y_Val shape (4200, 10)\n"
     ]
    }
   ],
   "source": [
    "#Splitting into training and validation data\n",
    "x_Train, x_Val, y_Train, y_Val = train_test_split(x_Train, y_Train, test_size=0.1, random_state=2)\n",
    "#Checking shapes\n",
    "print(\"x_Train shape\", x_Train.shape)\n",
    "print(\"y_Train shape\", y_Train.shape)\n",
    "print(\"x_Val shape\", x_Val.shape)\n",
    "print(\"y_Val shape\", y_Val.shape)"
   ]
  },
  {
   "cell_type": "markdown",
   "id": "d753bd89",
   "metadata": {},
   "source": [
    "6: Building ConvNet Model"
   ]
  },
  {
   "cell_type": "markdown",
   "id": "eba61754",
   "metadata": {},
   "source": [
    "Model 5: Activation(relu), Optimizer(Adam)"
   ]
  },
  {
   "cell_type": "code",
   "execution_count": 158,
   "id": "89cf664c",
   "metadata": {},
   "outputs": [
    {
     "name": "stderr",
     "output_type": "stream",
     "text": [
      "C:\\Users\\PAIN IN MY ASS\\anaconda3\\lib\\site-packages\\keras\\optimizers\\optimizer_v2\\adam.py:110: UserWarning: The `lr` argument is deprecated, use `learning_rate` instead.\n",
      "  super(Adam, self).__init__(name, **kwargs)\n",
      "<ipython-input-158-15ea0710e7cd>:32: UserWarning: `Model.fit_generator` is deprecated and will be removed in a future version. Please use `Model.fit`, which supports generators.\n",
      "  result5 = model5.fit_generator(DataGenerator8.flow(x_Train,y_Train), epochs=15,validation_data = (x_Val,y_Val))\n"
     ]
    },
    {
     "name": "stdout",
     "output_type": "stream",
     "text": [
      "Epoch 1/15\n",
      "1182/1182 [==============================] - 18s 15ms/step - loss: 0.6425 - accuracy: 0.7875 - val_loss: 0.1005 - val_accuracy: 0.9707\n",
      "Epoch 2/15\n",
      "1182/1182 [==============================] - 18s 15ms/step - loss: 0.2838 - accuracy: 0.9128 - val_loss: 0.0849 - val_accuracy: 0.9738\n",
      "Epoch 3/15\n",
      "1182/1182 [==============================] - 17s 15ms/step - loss: 0.2256 - accuracy: 0.9303 - val_loss: 0.0668 - val_accuracy: 0.9793\n",
      "Epoch 4/15\n",
      "1182/1182 [==============================] - 18s 15ms/step - loss: 0.1963 - accuracy: 0.9395 - val_loss: 0.0541 - val_accuracy: 0.9821\n",
      "Epoch 5/15\n",
      "1182/1182 [==============================] - 17s 15ms/step - loss: 0.1781 - accuracy: 0.9458 - val_loss: 0.0496 - val_accuracy: 0.9862\n",
      "Epoch 6/15\n",
      "1182/1182 [==============================] - 17s 15ms/step - loss: 0.1681 - accuracy: 0.9470 - val_loss: 0.0509 - val_accuracy: 0.9857\n",
      "Epoch 7/15\n",
      "1182/1182 [==============================] - 18s 15ms/step - loss: 0.1539 - accuracy: 0.9516 - val_loss: 0.0518 - val_accuracy: 0.9857\n",
      "Epoch 8/15\n",
      "1182/1182 [==============================] - 18s 15ms/step - loss: 0.1454 - accuracy: 0.9546 - val_loss: 0.0425 - val_accuracy: 0.9876\n",
      "Epoch 9/15\n",
      "1182/1182 [==============================] - 17s 15ms/step - loss: 0.1439 - accuracy: 0.9565 - val_loss: 0.0477 - val_accuracy: 0.9862\n",
      "Epoch 10/15\n",
      "1182/1182 [==============================] - 17s 15ms/step - loss: 0.1352 - accuracy: 0.9575 - val_loss: 0.0445 - val_accuracy: 0.9869\n",
      "Epoch 11/15\n",
      "1182/1182 [==============================] - 18s 15ms/step - loss: 0.1340 - accuracy: 0.9592 - val_loss: 0.0385 - val_accuracy: 0.9876\n",
      "Epoch 12/15\n",
      "1182/1182 [==============================] - 17s 15ms/step - loss: 0.1228 - accuracy: 0.9614 - val_loss: 0.0383 - val_accuracy: 0.9881\n",
      "Epoch 13/15\n",
      "1182/1182 [==============================] - 17s 15ms/step - loss: 0.1263 - accuracy: 0.9611 - val_loss: 0.0444 - val_accuracy: 0.9869\n",
      "Epoch 14/15\n",
      "1182/1182 [==============================] - 18s 15ms/step - loss: 0.1198 - accuracy: 0.9628 - val_loss: 0.0406 - val_accuracy: 0.9883\n",
      "Epoch 15/15\n",
      "1182/1182 [==============================] - 19s 16ms/step - loss: 0.1157 - accuracy: 0.9648 - val_loss: 0.0413 - val_accuracy: 0.9864\n"
     ]
    }
   ],
   "source": [
    "#We will be working with a Sequential convNet neural network\n",
    "model5 = Sequential()\n",
    "#Convulution Layers build\n",
    "#Adding in 1st convolution layer\n",
    "model5.add(Conv2D(filters = 8, kernel_size = (5,5),padding = 'Same', activation ='relu', input_shape = (28,28,1)))\n",
    "#Adding in MaxPooling2D arguments\n",
    "model5.add(MaxPool2D(pool_size=(2,2)))\n",
    "model5.add(Dropout(0.25))\n",
    "\n",
    "#Now for another convolution layer\n",
    "model5.add(Conv2D(filters = 16, kernel_size = (3,3),padding = 'Same', activation ='relu'))\n",
    "model5.add(MaxPool2D(pool_size=(2,2)))\n",
    "model5.add(Dropout(0.25))\n",
    "\n",
    "#Fully connecting the model\n",
    "model5.add(Flatten())\n",
    "model5.add(Dense(256, activation='relu'))\n",
    "model5.add(Dropout(0.5))\n",
    "model5.add(Dense(10,activation='softmax'))#Dramatically increases accuracy with softmax activation here\n",
    "\n",
    "#Defining the Optimizer\n",
    "optimizer5 = Adam(lr=0.001)\n",
    "           \n",
    "#compiling all the layers created above into a working model\n",
    "model5.compile(loss='categorical_crossentropy', optimizer=optimizer5, metrics=[\"accuracy\"])\n",
    "\n",
    "#DataGenerator\n",
    "DataGenerator5 = ImageDataGenerator(rotation_range =10, zoom_range=0.1, width_shift_range = 0.1, height_shift_range=0.1)\n",
    "DataGenerator5.fit(x_Train)\n",
    "\n",
    "#fitting the model\n",
    "result5 = model5.fit_generator(DataGenerator8.flow(x_Train,y_Train), epochs=15,validation_data = (x_Val,y_Val))"
   ]
  },
  {
   "cell_type": "markdown",
   "id": "e1183d3b",
   "metadata": {},
   "source": [
    "Model 6: Activation(sigmoid), Optimizer(Adam)"
   ]
  },
  {
   "cell_type": "code",
   "execution_count": 159,
   "id": "82725b72",
   "metadata": {},
   "outputs": [
    {
     "name": "stdout",
     "output_type": "stream",
     "text": [
      "Epoch 1/15\n"
     ]
    },
    {
     "name": "stderr",
     "output_type": "stream",
     "text": [
      "<ipython-input-159-dd98f59df1ca>:31: UserWarning: `Model.fit_generator` is deprecated and will be removed in a future version. Please use `Model.fit`, which supports generators.\n",
      "  result6 = model6.fit_generator(DataGenerator8.flow(x_Train,y_Train), epochs=15,validation_data = (x_Val,y_Val))\n"
     ]
    },
    {
     "name": "stdout",
     "output_type": "stream",
     "text": [
      "1182/1182 [==============================] - 18s 15ms/step - loss: 2.3158 - accuracy: 0.1069 - val_loss: 2.2939 - val_accuracy: 0.2019\n",
      "Epoch 2/15\n",
      "1182/1182 [==============================] - 18s 15ms/step - loss: 1.2273 - accuracy: 0.5752 - val_loss: 0.4433 - val_accuracy: 0.8621\n",
      "Epoch 3/15\n",
      "1182/1182 [==============================] - 18s 15ms/step - loss: 0.6701 - accuracy: 0.7834 - val_loss: 0.2525 - val_accuracy: 0.9236\n",
      "Epoch 4/15\n",
      "1182/1182 [==============================] - 18s 15ms/step - loss: 0.4772 - accuracy: 0.8476 - val_loss: 0.1779 - val_accuracy: 0.9443\n",
      "Epoch 5/15\n",
      "1182/1182 [==============================] - 18s 15ms/step - loss: 0.3829 - accuracy: 0.8798 - val_loss: 0.1382 - val_accuracy: 0.9567\n",
      "Epoch 6/15\n",
      "1182/1182 [==============================] - 18s 15ms/step - loss: 0.3238 - accuracy: 0.8989 - val_loss: 0.1212 - val_accuracy: 0.9631\n",
      "Epoch 7/15\n",
      "1182/1182 [==============================] - 18s 15ms/step - loss: 0.2935 - accuracy: 0.9081 - val_loss: 0.1064 - val_accuracy: 0.9690\n",
      "Epoch 8/15\n",
      "1182/1182 [==============================] - 17s 15ms/step - loss: 0.2637 - accuracy: 0.9184 - val_loss: 0.1017 - val_accuracy: 0.9683\n",
      "Epoch 9/15\n",
      "1182/1182 [==============================] - 18s 15ms/step - loss: 0.2492 - accuracy: 0.9224 - val_loss: 0.0914 - val_accuracy: 0.9731\n",
      "Epoch 10/15\n",
      "1182/1182 [==============================] - 18s 15ms/step - loss: 0.2337 - accuracy: 0.9275 - val_loss: 0.0894 - val_accuracy: 0.9729\n",
      "Epoch 11/15\n",
      "1182/1182 [==============================] - 18s 15ms/step - loss: 0.2263 - accuracy: 0.9306 - val_loss: 0.0845 - val_accuracy: 0.9738\n",
      "Epoch 12/15\n",
      "1182/1182 [==============================] - 18s 15ms/step - loss: 0.2151 - accuracy: 0.9329 - val_loss: 0.0773 - val_accuracy: 0.9760\n",
      "Epoch 13/15\n",
      "1182/1182 [==============================] - 18s 15ms/step - loss: 0.2031 - accuracy: 0.9361 - val_loss: 0.0768 - val_accuracy: 0.9783\n",
      "Epoch 14/15\n",
      "1182/1182 [==============================] - 18s 15ms/step - loss: 0.1974 - accuracy: 0.9391 - val_loss: 0.0744 - val_accuracy: 0.9788\n",
      "Epoch 15/15\n",
      "1182/1182 [==============================] - 17s 15ms/step - loss: 0.1899 - accuracy: 0.9413 - val_loss: 0.0737 - val_accuracy: 0.9790\n"
     ]
    }
   ],
   "source": [
    "model6 = Sequential()\n",
    "#Convulution Layers build\n",
    "#Adding in 1st convolution layer\n",
    "model6.add(Conv2D(filters = 8, kernel_size = (5,5),padding = 'Same', activation ='sigmoid', input_shape = (28,28,1)))\n",
    "#Adding in MaxPooling2D arguments\n",
    "model6.add(MaxPool2D(pool_size=(2,2)))\n",
    "model6.add(Dropout(0.25))\n",
    "\n",
    "#Now for another convolution layer\n",
    "model6.add(Conv2D(filters = 16, kernel_size = (3,3),padding = 'Same', activation ='sigmoid'))\n",
    "model6.add(MaxPool2D(pool_size=(2,2)))\n",
    "model6.add(Dropout(0.25))\n",
    "\n",
    "#Fully connecting the model\n",
    "model6.add(Flatten())\n",
    "model6.add(Dense(256, activation='sigmoid'))\n",
    "model6.add(Dropout(0.5))\n",
    "model6.add(Dense(10,activation='softmax'))#Dramatically increases accuracy with softmax activation here\n",
    "\n",
    "#Defining the Optimizer\n",
    "optimizer6 = Adam(lr=0.001)\n",
    "           \n",
    "#compiling all the layers created above into a working model\n",
    "model6.compile(loss='categorical_crossentropy', optimizer=optimizer6, metrics=[\"accuracy\"])\n",
    "\n",
    "#DataGenerator\n",
    "DataGenerator6 = ImageDataGenerator(rotation_range =10, zoom_range=0.1, width_shift_range = 0.1, height_shift_range=0.1)\n",
    "DataGenerator6.fit(x_Train)\n",
    "\n",
    "#fitting the model\n",
    "result6 = model6.fit_generator(DataGenerator8.flow(x_Train,y_Train), epochs=15,validation_data = (x_Val,y_Val))"
   ]
  },
  {
   "cell_type": "markdown",
   "id": "f08dec24",
   "metadata": {},
   "source": [
    "Model 7: Activation(relu), Optimizer(Adadelta)"
   ]
  },
  {
   "cell_type": "code",
   "execution_count": 160,
   "id": "e405c3d1",
   "metadata": {},
   "outputs": [
    {
     "name": "stderr",
     "output_type": "stream",
     "text": [
      "C:\\Users\\PAIN IN MY ASS\\anaconda3\\lib\\site-packages\\keras\\optimizers\\optimizer_v2\\adadelta.py:77: UserWarning: The `lr` argument is deprecated, use `learning_rate` instead.\n",
      "  super(Adadelta, self).__init__(name, **kwargs)\n",
      "<ipython-input-160-b578bd20dc29>:31: UserWarning: `Model.fit_generator` is deprecated and will be removed in a future version. Please use `Model.fit`, which supports generators.\n",
      "  result7 = model7.fit_generator(DataGenerator8.flow(x_Train,y_Train), epochs=15,validation_data = (x_Val,y_Val))\n"
     ]
    },
    {
     "name": "stdout",
     "output_type": "stream",
     "text": [
      "Epoch 1/15\n",
      "1182/1182 [==============================] - 19s 15ms/step - loss: 0.4787 - accuracy: 0.8429 - val_loss: 0.0911 - val_accuracy: 0.9721\n",
      "Epoch 2/15\n",
      "1182/1182 [==============================] - 17s 15ms/step - loss: 0.2594 - accuracy: 0.9207 - val_loss: 0.0753 - val_accuracy: 0.9755\n",
      "Epoch 3/15\n",
      "1182/1182 [==============================] - 18s 15ms/step - loss: 0.2168 - accuracy: 0.9341 - val_loss: 0.0693 - val_accuracy: 0.9810\n",
      "Epoch 4/15\n",
      "1182/1182 [==============================] - 18s 15ms/step - loss: 0.1956 - accuracy: 0.9406 - val_loss: 0.0614 - val_accuracy: 0.9814\n",
      "Epoch 5/15\n",
      "1182/1182 [==============================] - 17s 15ms/step - loss: 0.1815 - accuracy: 0.9453 - val_loss: 0.0541 - val_accuracy: 0.9829\n",
      "Epoch 6/15\n",
      "1182/1182 [==============================] - 17s 15ms/step - loss: 0.1741 - accuracy: 0.9453 - val_loss: 0.0542 - val_accuracy: 0.9831\n",
      "Epoch 7/15\n",
      "1182/1182 [==============================] - 17s 15ms/step - loss: 0.1640 - accuracy: 0.9504 - val_loss: 0.0525 - val_accuracy: 0.9831\n",
      "Epoch 8/15\n",
      "1182/1182 [==============================] - 18s 15ms/step - loss: 0.1520 - accuracy: 0.9538 - val_loss: 0.0462 - val_accuracy: 0.9860\n",
      "Epoch 9/15\n",
      "1182/1182 [==============================] - 18s 15ms/step - loss: 0.1519 - accuracy: 0.9541 - val_loss: 0.0517 - val_accuracy: 0.9826\n",
      "Epoch 10/15\n",
      "1182/1182 [==============================] - 18s 15ms/step - loss: 0.1496 - accuracy: 0.9555 - val_loss: 0.0439 - val_accuracy: 0.9864\n",
      "Epoch 11/15\n",
      "1182/1182 [==============================] - 18s 15ms/step - loss: 0.1411 - accuracy: 0.9572 - val_loss: 0.0468 - val_accuracy: 0.9860\n",
      "Epoch 12/15\n",
      "1182/1182 [==============================] - 18s 15ms/step - loss: 0.1392 - accuracy: 0.9569 - val_loss: 0.0484 - val_accuracy: 0.9855\n",
      "Epoch 13/15\n",
      "1182/1182 [==============================] - 17s 15ms/step - loss: 0.1398 - accuracy: 0.9566 - val_loss: 0.0430 - val_accuracy: 0.9879\n",
      "Epoch 14/15\n",
      "1182/1182 [==============================] - 17s 15ms/step - loss: 0.1350 - accuracy: 0.9588 - val_loss: 0.0406 - val_accuracy: 0.9879\n",
      "Epoch 15/15\n",
      "1182/1182 [==============================] - 18s 15ms/step - loss: 0.1319 - accuracy: 0.9602 - val_loss: 0.0386 - val_accuracy: 0.9886\n"
     ]
    }
   ],
   "source": [
    "model7 = Sequential()\n",
    "#Convulution Layers build\n",
    "#Adding in 1st convolution layer\n",
    "model7.add(Conv2D(filters = 8, kernel_size = (5,5),padding = 'Same', activation ='relu', input_shape = (28,28,1)))\n",
    "#Adding in MaxPooling2D arguments\n",
    "model7.add(MaxPool2D(pool_size=(2,2)))\n",
    "model7.add(Dropout(0.25))\n",
    "\n",
    "#Now for another convolution layer\n",
    "model7.add(Conv2D(filters = 16, kernel_size = (3,3),padding = 'Same', activation ='relu'))\n",
    "model7.add(MaxPool2D(pool_size=(2,2)))\n",
    "model7.add(Dropout(0.25))\n",
    "\n",
    "#Fully connecting the model\n",
    "model7.add(Flatten())\n",
    "model7.add(Dense(256, activation='relu'))\n",
    "model7.add(Dropout(0.5))\n",
    "model7.add(Dense(10,activation='softmax'))#Dramatically increases accuracy with softmax activation here\n",
    "\n",
    "#Defining the Optimizer\n",
    "optimizer7 = Adadelta(lr=0.001)\n",
    "           \n",
    "#compiling all the layers created above into a working model\n",
    "model7.compile(loss='categorical_crossentropy', optimizer=optimizer5, metrics=[\"accuracy\"])\n",
    "\n",
    "#DataGenerator\n",
    "DataGenerator7 = ImageDataGenerator(rotation_range =10, zoom_range=0.1, width_shift_range = 0.1, height_shift_range=0.1)\n",
    "DataGenerator7.fit(x_Train)\n",
    "\n",
    "#fitting the model\n",
    "result7 = model7.fit_generator(DataGenerator8.flow(x_Train,y_Train), epochs=15,validation_data = (x_Val,y_Val))"
   ]
  },
  {
   "cell_type": "markdown",
   "id": "f3ef8ded",
   "metadata": {},
   "source": [
    "Model 8: Activation(sigmoid), Optimizer(Adadelta)"
   ]
  },
  {
   "cell_type": "code",
   "execution_count": 161,
   "id": "e77feac1",
   "metadata": {},
   "outputs": [
    {
     "name": "stdout",
     "output_type": "stream",
     "text": [
      "Epoch 1/15\n"
     ]
    },
    {
     "name": "stderr",
     "output_type": "stream",
     "text": [
      "<ipython-input-161-c5cd0a86f07a>:31: UserWarning: `Model.fit_generator` is deprecated and will be removed in a future version. Please use `Model.fit`, which supports generators.\n",
      "  result8 = model8.fit_generator(DataGenerator8.flow(x_Train,y_Train),epochs=15, validation_data = (x_Val,y_Val))\n"
     ]
    },
    {
     "name": "stdout",
     "output_type": "stream",
     "text": [
      "1182/1182 [==============================] - 18s 15ms/step - loss: 1.6190 - accuracy: 0.4229 - val_loss: 0.7414 - val_accuracy: 0.7702\n",
      "Epoch 2/15\n",
      "1182/1182 [==============================] - 18s 15ms/step - loss: 1.0050 - accuracy: 0.6608 - val_loss: 0.4843 - val_accuracy: 0.8531\n",
      "Epoch 3/15\n",
      "1182/1182 [==============================] - 18s 15ms/step - loss: 0.7375 - accuracy: 0.7577 - val_loss: 0.3036 - val_accuracy: 0.9069\n",
      "Epoch 4/15\n",
      "1182/1182 [==============================] - 18s 15ms/step - loss: 0.5554 - accuracy: 0.8210 - val_loss: 0.1985 - val_accuracy: 0.9433\n",
      "Epoch 5/15\n",
      "1182/1182 [==============================] - 17s 15ms/step - loss: 0.4467 - accuracy: 0.8585 - val_loss: 0.1679 - val_accuracy: 0.9510\n",
      "Epoch 6/15\n",
      "1182/1182 [==============================] - 18s 15ms/step - loss: 0.3876 - accuracy: 0.8779 - val_loss: 0.1492 - val_accuracy: 0.9586\n",
      "Epoch 7/15\n",
      "1182/1182 [==============================] - 18s 15ms/step - loss: 0.3527 - accuracy: 0.8906 - val_loss: 0.1374 - val_accuracy: 0.9612\n",
      "Epoch 8/15\n",
      "1182/1182 [==============================] - 18s 15ms/step - loss: 0.3173 - accuracy: 0.9011 - val_loss: 0.1193 - val_accuracy: 0.9679\n",
      "Epoch 9/15\n",
      "1182/1182 [==============================] - 18s 15ms/step - loss: 0.2977 - accuracy: 0.9074 - val_loss: 0.1125 - val_accuracy: 0.9667\n",
      "Epoch 10/15\n",
      "1182/1182 [==============================] - 18s 15ms/step - loss: 0.2771 - accuracy: 0.9148 - val_loss: 0.1046 - val_accuracy: 0.9707\n",
      "Epoch 11/15\n",
      "1182/1182 [==============================] - 18s 15ms/step - loss: 0.2647 - accuracy: 0.9186 - val_loss: 0.0986 - val_accuracy: 0.9702\n",
      "Epoch 12/15\n",
      "1182/1182 [==============================] - 18s 15ms/step - loss: 0.2544 - accuracy: 0.9229 - val_loss: 0.0895 - val_accuracy: 0.9729\n",
      "Epoch 13/15\n",
      "1182/1182 [==============================] - 18s 15ms/step - loss: 0.2357 - accuracy: 0.9277 - val_loss: 0.0896 - val_accuracy: 0.9714\n",
      "Epoch 14/15\n",
      "1182/1182 [==============================] - 19s 16ms/step - loss: 0.2283 - accuracy: 0.9301 - val_loss: 0.0828 - val_accuracy: 0.9743\n",
      "Epoch 15/15\n",
      "1182/1182 [==============================] - 18s 15ms/step - loss: 0.2243 - accuracy: 0.9312 - val_loss: 0.0787 - val_accuracy: 0.9788\n"
     ]
    }
   ],
   "source": [
    "model8 = Sequential()\n",
    "#Convulution Layers build\n",
    "#Adding in 1st convolution layer\n",
    "model8.add(Conv2D(filters = 8, kernel_size = (5,5),padding = 'Same', activation ='sigmoid', input_shape = (28,28,1)))\n",
    "#Adding in MaxPooling2D arguments\n",
    "model8.add(MaxPool2D(pool_size=(2,2)))\n",
    "model8.add(Dropout(0.25))\n",
    "\n",
    "#Now for another convolution layer\n",
    "model8.add(Conv2D(filters = 16, kernel_size = (3,3),padding = 'Same', activation ='sigmoid'))\n",
    "model8.add(MaxPool2D(pool_size=(2,2)))\n",
    "model8.add(Dropout(0.25))\n",
    "\n",
    "#Fully connecting the model\n",
    "model8.add(Flatten())\n",
    "model8.add(Dense(256, activation='sigmoid'))\n",
    "model8.add(Dropout(0.5))\n",
    "model8.add(Dense(10,activation='softmax'))#Dramatically increases accuracy with softmax activation here\n",
    "\n",
    "#Defining the Optimizer\n",
    "optimizer8 = Adadelta(lr=0.001)\n",
    "           \n",
    "#compiling all the layers created above into a working model\n",
    "model8.compile(loss='categorical_crossentropy', optimizer=optimizer6, metrics=[\"accuracy\"])\n",
    "\n",
    "#DataGenerator\n",
    "DataGenerator8 = ImageDataGenerator(rotation_range =10, zoom_range=0.1, width_shift_range = 0.1, height_shift_range=0.1)\n",
    "DataGenerator8.fit(x_Train)\n",
    "\n",
    "#fitting the model\n",
    "result8 = model8.fit_generator(DataGenerator8.flow(x_Train,y_Train),epochs=15, validation_data = (x_Val,y_Val))"
   ]
  },
  {
   "cell_type": "markdown",
   "id": "df51333e",
   "metadata": {},
   "source": [
    "7: Evaluating the Convolution Neural Network Models"
   ]
  },
  {
   "cell_type": "code",
   "execution_count": 162,
   "id": "34e7885f",
   "metadata": {},
   "outputs": [
    {
     "data": {
      "text/plain": [
       "[<matplotlib.lines.Line2D at 0x14c8557f640>]"
      ]
     },
     "execution_count": 162,
     "metadata": {},
     "output_type": "execute_result"
    },
    {
     "data": {
      "text/plain": [
       "[<matplotlib.lines.Line2D at 0x14c8557fa60>]"
      ]
     },
     "execution_count": 162,
     "metadata": {},
     "output_type": "execute_result"
    },
    {
     "data": {
      "text/plain": [
       "[<matplotlib.lines.Line2D at 0x14c8557fdc0>]"
      ]
     },
     "execution_count": 162,
     "metadata": {},
     "output_type": "execute_result"
    },
    {
     "data": {
      "text/plain": [
       "[<matplotlib.lines.Line2D at 0x14c85563160>]"
      ]
     },
     "execution_count": 162,
     "metadata": {},
     "output_type": "execute_result"
    },
    {
     "data": {
      "text/plain": [
       "Text(0.5, 0, 'Epoch')"
      ]
     },
     "execution_count": 162,
     "metadata": {},
     "output_type": "execute_result"
    },
    {
     "data": {
      "text/plain": [
       "Text(0.5, 1.0, 'Accuracy over Epoch')"
      ]
     },
     "execution_count": 162,
     "metadata": {},
     "output_type": "execute_result"
    },
    {
     "data": {
      "text/plain": [
       "<matplotlib.legend.Legend at 0x14c8557f880>"
      ]
     },
     "execution_count": 162,
     "metadata": {},
     "output_type": "execute_result"
    },
    {
     "data": {
      "image/png": "[encoded data removed]",
      "text/plain": [
       "<Figure size 1080x720 with 1 Axes>"
      ]
     },
     "metadata": {
      "needs_background": "light"
     },
     "output_type": "display_data"
    }
   ],
   "source": [
    "#Getting Evaluation metrics for each model\n",
    "hist5 = result5.history\n",
    "acc5 = hist5['accuracy']\n",
    "\n",
    "hist6 = result6.history\n",
    "acc6 = hist6['accuracy']\n",
    "\n",
    "hist7 = result7.history\n",
    "acc7 = hist7['accuracy']\n",
    "\n",
    "hist8 = result8.history\n",
    "acc8 = hist8['accuracy']\n",
    "\n",
    "fig, ax = plt.subplots(1,sharex=True,sharey=True,figsize=(15,10))\n",
    "plt.plot(acc5,color='green',label='Model5')\n",
    "plt.plot(acc6,color='blue',label='Model6')\n",
    "plt.plot(acc7,color='red',label='Model7')\n",
    "plt.plot(acc8,color='magenta',label='Model8')\n",
    "plt.xlabel('Epoch')\n",
    "plt.title('Accuracy over Epoch')\n",
    "plt.legend(loc='lower right')\n",
    "plt.show()\n"
   ]
  },
  {
   "cell_type": "markdown",
   "id": "0ce1fbaa",
   "metadata": {},
   "source": [
    "It seems that both Model 5 and Model 7 (relu) models performed the best amount the ConvNet Neural Network Models.  Both of these have the best accuracy scores similar to Model 1 in part 1A.  From this I will use Model1 in part 1A as that had a slightly higher accuracy score, but ultimately I could use either Model1,Model5, or Model7 and have good accuracy results."
   ]
  },
  {
   "cell_type": "markdown",
   "id": "c5ef11a4",
   "metadata": {},
   "source": [
    "7: Test Data and Submission"
   ]
  },
  {
   "cell_type": "code",
   "execution_count": 163,
   "id": "8c173bb2",
   "metadata": {},
   "outputs": [],
   "source": [
    "result = model1.predict(xTest)\n",
    "result = pd.Series(result,name='Label')"
   ]
  },
  {
   "cell_type": "code",
   "execution_count": 164,
   "id": "3320fb84",
   "metadata": {},
   "outputs": [],
   "source": [
    "submission = pd.concat([pd.Series(range(1,28001),name=\"ImageId\"),result],axis=1)"
   ]
  },
  {
   "cell_type": "code",
   "execution_count": 165,
   "id": "c0bebf86",
   "metadata": {},
   "outputs": [],
   "source": [
    "submission.to_csv('Submission.csv', index = False)"
   ]
  }
 ],
 "metadata": {
  "kernelspec": {
   "display_name": "Python 3 (ipykernel)",
   "language": "python",
   "name": "python3"
  },
  "language_info": {
   "codemirror_mode": {
    "name": "ipython",
    "version": 3
   },
   "file_extension": ".py",
   "mimetype": "text/x-python",
   "name": "python",
   "nbconvert_exporter": "python",
   "pygments_lexer": "ipython3",
   "version": "3.9.12"
  }
 },
 "nbformat": 4,
 "nbformat_minor": 5
}
